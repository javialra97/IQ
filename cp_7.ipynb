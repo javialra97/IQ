{
  "nbformat": 4,
  "nbformat_minor": 0,
  "metadata": {
    "colab": {
      "name": "cp_7.ipynb",
      "provenance": [],
      "collapsed_sections": [],
      "authorship_tag": "ABX9TyOg4YgHMOWUcfhimYePgv5n",
      "include_colab_link": true
    },
    "kernelspec": {
      "name": "python3",
      "display_name": "Python 3"
    },
    "language_info": {
      "name": "python"
    }
  },
  "cells": [
    {
      "cell_type": "markdown",
      "metadata": {
        "id": "view-in-github",
        "colab_type": "text"
      },
      "source": [
        "<a href=\"https://colab.research.google.com/github/javialra97/IQ/blob/main/cp_7.ipynb\" target=\"_parent\"><img src=\"https://colab.research.google.com/assets/colab-badge.svg\" alt=\"Open In Colab\"/></a>"
      ]
    },
    {
      "cell_type": "markdown",
      "source": [
        "# Clase Práctica #7 de Informática Química\n",
        "Autor: [Javier Emilio Alfonso Ramos](https://scholar.google.com/citations?user=AcJIzk4AAAAJ&hl=es)  (javialra97@gmail.com)\n",
        "\n",
        "Es esta clase práctica trabajaremos directamente en la nube, haciendo uso de las facilidades ofrecidas por Google a través de **Google Colaboratory**.\n",
        "\n",
        "El objetivo es que a través del lenguaje de programación Python obtendramos algunas propiedades químicas como pueden ser las cargas parciales, momento dipolo y geometría de la molecula de agua.\n",
        "\n",
        "Para esto necesitamos una biblioteca que permita realizar este tipo de operaciones. Para eso usaremos el programa PySCF<sup>[1,2,3]</sup>. Este programa esta escrito totalmente en Python de manera que uno pueda importar las bibliotecas y funciones que necesite. Para más información puede tocar [aquí](https://pyscf.org/).\n",
        "\n",
        "Como es de esperar estas funciones no forman parte de las bibliotecas estándar de Python por lo que lo primero que hace falta es instalar. En Python hay varias maneras de instalar este tipo de módulos, no ahondaremos en eso, sencillamente escogeremos uno de ellos, [pip](https://pypi.org/project/pip/). \n"
      ],
      "metadata": {
        "id": "lTrthnKbEVDk"
      }
    },
    {
      "cell_type": "code",
      "source": [
        "! pip install pyscf\n",
        "! pip install pyberny\n",
        "! pip install mogli"
      ],
      "metadata": {
        "id": "Xsx5oIOk7jYP",
        "colab": {
          "base_uri": "https://localhost:8080/"
        },
        "outputId": "134837d2-6963-469d-afc9-0fed3596cb64"
      },
      "execution_count": 1,
      "outputs": [
        {
          "output_type": "stream",
          "name": "stdout",
          "text": [
            "Collecting pyscf\n",
            "  Downloading pyscf-2.0.1-cp37-cp37m-manylinux1_x86_64.whl (37.5 MB)\n",
            "\u001b[K     |████████████████████████████████| 37.5 MB 1.4 MB/s \n",
            "\u001b[?25hRequirement already satisfied: numpy!=1.16,!=1.17,>=1.13 in /usr/local/lib/python3.7/dist-packages (from pyscf) (1.21.6)\n",
            "Requirement already satisfied: h5py>=2.7 in /usr/local/lib/python3.7/dist-packages (from pyscf) (3.1.0)\n",
            "Requirement already satisfied: scipy!=1.5.0,!=1.5.1 in /usr/local/lib/python3.7/dist-packages (from pyscf) (1.4.1)\n",
            "Requirement already satisfied: cached-property in /usr/local/lib/python3.7/dist-packages (from h5py>=2.7->pyscf) (1.5.2)\n",
            "Installing collected packages: pyscf\n",
            "Successfully installed pyscf-2.0.1\n",
            "Collecting pyberny\n",
            "  Downloading pyberny-0.6.3-py3-none-any.whl (27 kB)\n",
            "Requirement already satisfied: numpy<2.0,>=1.15 in /usr/local/lib/python3.7/dist-packages (from pyberny) (1.21.6)\n",
            "Installing collected packages: pyberny\n",
            "Successfully installed pyberny-0.6.3\n",
            "Collecting mogli\n",
            "  Downloading mogli-0.3.0.tar.gz (12 kB)\n",
            "Collecting glfw\n",
            "  Downloading glfw-2.5.3-py2.py27.py3.py30.py31.py32.py33.py34.py35.py36.py37.py38-none-manylinux2014_x86_64.whl (206 kB)\n",
            "\u001b[K     |████████████████████████████████| 206 kB 31.7 MB/s \n",
            "\u001b[?25hCollecting gr\n",
            "  Downloading gr-1.20.0.tar.gz (126 kB)\n",
            "\u001b[K     |████████████████████████████████| 126 kB 33.9 MB/s \n",
            "\u001b[?25hRequirement already satisfied: numpy in /usr/local/lib/python3.7/dist-packages (from mogli) (1.21.6)\n",
            "Requirement already satisfied: PyOpenGL in /usr/local/lib/python3.7/dist-packages (from mogli) (3.1.6)\n",
            "Building wheels for collected packages: mogli, gr\n",
            "  Building wheel for mogli (setup.py) ... \u001b[?25l\u001b[?25hdone\n",
            "  Created wheel for mogli: filename=mogli-0.3.0-py3-none-any.whl size=10630 sha256=11e13f445adb1bacf67b8a2c22e6e60c17e895f5bfca50e1598e2be5132a11cb\n",
            "  Stored in directory: /root/.cache/pip/wheels/75/01/df/15165d257d23a3e9035460c59c96113f4be08241a7ec138615\n",
            "  Building wheel for gr (setup.py) ... \u001b[?25l\u001b[?25hdone\n",
            "  Created wheel for gr: filename=gr-1.20.0-cp37-cp37m-linux_x86_64.whl size=20939797 sha256=5e1af305017083a7fe57e4b15c26a3981cb5e325a18543e96bf3c73a164e56d7\n",
            "  Stored in directory: /root/.cache/pip/wheels/4c/f7/82/033951f4018677d5fd6ee622fa683793f52fd0d58636ba0dad\n",
            "Successfully built mogli gr\n",
            "Installing collected packages: gr, glfw, mogli\n",
            "Successfully installed glfw-2.5.3 gr-1.20.0 mogli-0.3.0\n"
          ]
        }
      ]
    },
    {
      "cell_type": "markdown",
      "source": [
        "Las dos primeras líneas instalan el programa PySCF. Mogli nos permitira visualizar la molécula de agua desde el mismo navegador. Hay muchos programas que permiten esto (GaussView, Avogadro, ChemCraft ...) pero el sentido es hacerlo todo con códigos de Python. La informacion de Mogli la pueden encontrar en su [repositorio de GitHub](https://github.com/sciapp/mogli).\n",
        "\n",
        "Una vez que estén instalados las bibliotecas necesarias, cual sería el próximo paso🤔? ... Tendremos que importar aquellas funciones que nos permitirán realizar el cálculos de las propiedades de interés."
      ],
      "metadata": {
        "id": "1hSUtioW8LUO"
      }
    },
    {
      "cell_type": "code",
      "source": [
        "from pyscf import gto, scf\n",
        "from pyscf.geomopt.berny_solver import optimize"
      ],
      "metadata": {
        "id": "Eu-9dv6n-nf3"
      },
      "execution_count": 2,
      "outputs": []
    },
    {
      "cell_type": "markdown",
      "source": [
        "La primera línea esta importando aquellas funciones que nos permitirán resolver de manera aproximada una de las más famosas ecuaciones de la mecánica cuántica, la ecuación de Schröndinger(no relativista independiente del tiempo):\n",
        "\n",
        "$ \\hat{H}Ψ = EΨ $\n",
        "\n",
        "Como nuestro interés es encontrar la geometría de equilibrio, tendremos que buscar una función que optimice la estructura inicial que le daremos como entrada. Extrapolando un poco los conocimientos adquiridos en Análisis Matemático I, lo que estamos buscando es el conjunto óptimos de parámetros que describan a la molécula de agua, estos serían la distancia de enlace O-H y el ángulo de enlace HOH.\n",
        "\n",
        "La entrada de nuestro programa queda claro que es la molécula de agua pero hasta el momento no la hemos definido. Necesitamos escribirla de una manera que nuestro programa entienda que es la molécula de agua (un poco abstracto ehh..). Hay varias maneras de hacer esto, nosotros escogeremos la representación cartesiana. Tendriamos que declarar las coordenadas xyz de tres puntos en el espacio. "
      ],
      "metadata": {
        "id": "64yQBCVy-1l7"
      }
    },
    {
      "cell_type": "code",
      "source": [
        "mol_agua = gto.M (atom = ''' O 0 0 0; H 0 1 0; H 0 0 1 ''', basis = 'sto-3g',)"
      ],
      "metadata": {
        "id": "AmjD7AxOFWn-"
      },
      "execution_count": 3,
      "outputs": []
    },
    {
      "cell_type": "markdown",
      "source": [
        "En la primera linea declaramos a nuestra molécula de agua. Fijense que el átomo de oxígeno se encuentra en el centro del eje de coordenadas mientras que los átomos de hidrógeno se encuentran desplazados una unidad en el eje de las *y* y en el eje de las *z*. \n",
        "\n",
        "Ahora vamos a buscar el mínimo(optimizar) y mostrar las coordenas de esta nueva geometría."
      ],
      "metadata": {
        "id": "2YGtcKSnIG_5"
      }
    },
    {
      "cell_type": "code",
      "source": [
        "mol_eq = optimize(mol_agua)\n",
        "print(\"\\n\")\n",
        "print(mol_eq.atom_coords())"
      ],
      "metadata": {
        "id": "Gb2rxzpbJ9Vr",
        "colab": {
          "base_uri": "https://localhost:8080/"
        },
        "outputId": "45f8c991-503e-47e5-99b7-83210e75bf4f"
      },
      "execution_count": 4,
      "outputs": [
        {
          "output_type": "stream",
          "name": "stdout",
          "text": [
            "converged SCF energy = -74.9611711378677\n",
            "converged SCF energy = -74.9611711378677\n",
            "converged SCF energy = -74.9611711378677\n",
            "\n",
            "Geometry optimization cycle 1\n",
            "Cartesian coordinates (Angstrom)\n",
            " Atom        New coordinates             dX        dY        dZ\n",
            "   O   0.000000   0.000000   0.000000    0.000000  0.000000  0.000000\n",
            "   H   0.000000   1.000000   0.000000    0.000000  0.000000  0.000000\n",
            "   H   0.000000   0.000000   1.000000    0.000000  0.000000  0.000000\n",
            "converged SCF energy = -74.9611711378677\n",
            "--------------- SCF_Scanner gradients ---------------\n",
            "         x                y                z\n",
            "0 O    -0.0000000000    -0.0334678269    -0.0334678269\n",
            "1 H     0.0000000000     0.0048875662     0.0285802607\n",
            "2 H     0.0000000000     0.0285802607     0.0048875662\n",
            "----------------------------------------------\n",
            "cycle 1: E = -74.9611711379  dE = -74.9612  norm(grad) = 0.0626229\n",
            "\n",
            "Geometry optimization cycle 2\n",
            "Cartesian coordinates (Angstrom)\n",
            " Atom        New coordinates             dX        dY        dZ\n",
            "   O   0.000000   0.049927   0.049927    0.000000  0.049927  0.049927\n",
            "   H   0.000000   1.035608  -0.085535    0.000000  0.035608 -0.085535\n",
            "   H   0.000000  -0.085535   1.035608    0.000000 -0.085535  0.035608\n",
            "\n",
            "WARN: Large deviations found between the input molecule and the molecule from chkfile\n",
            "Initial guess density matrix may have large error.\n",
            "\n",
            "converged SCF energy = -74.9643728369623\n",
            "--------------- SCF_Scanner gradients ---------------\n",
            "         x                y                z\n",
            "0 O    -0.0000000000     0.0087137481     0.0087137481\n",
            "1 H    -0.0000000000     0.0076801356    -0.0163938837\n",
            "2 H     0.0000000000    -0.0163938837     0.0076801356\n",
            "----------------------------------------------\n",
            "cycle 2: E = -74.964372837  dE = -0.0032017  norm(grad) = 0.0284138\n",
            "\n",
            "Geometry optimization cycle 3\n",
            "Cartesian coordinates (Angstrom)\n",
            " Atom        New coordinates             dX        dY        dZ\n",
            "   O   0.000000   0.035420   0.035420    0.000000 -0.014508 -0.014508\n",
            "   H   0.000000   1.019188  -0.054607    0.000000 -0.016421  0.030928\n",
            "   H   0.000000  -0.054607   1.019188    0.000000  0.030928 -0.016421\n",
            "\n",
            "WARN: Large deviations found between the input molecule and the molecule from chkfile\n",
            "Initial guess density matrix may have large error.\n",
            "\n",
            "converged SCF energy = -74.9658892365167\n",
            "--------------- SCF_Scanner gradients ---------------\n",
            "         x                y                z\n",
            "0 O    -0.0000000000     0.0025498114     0.0025498114\n",
            "1 H     0.0000000000    -0.0016187088    -0.0009311026\n",
            "2 H     0.0000000000    -0.0009311026    -0.0016187088\n",
            "----------------------------------------------\n",
            "cycle 3: E = -74.9658892365  dE = -0.0015164  norm(grad) = 0.00446961\n",
            "\n",
            "Geometry optimization cycle 4\n",
            "Cartesian coordinates (Angstrom)\n",
            " Atom        New coordinates             dX        dY        dZ\n",
            "   O   0.000000   0.033311   0.033311    0.000000 -0.002108 -0.002108\n",
            "   H   0.000000   1.019403  -0.052715    0.000000  0.000216  0.001892\n",
            "   H   0.000000  -0.052715   1.019403    0.000000  0.001892  0.000216\n",
            "\n",
            "WARN: Large deviations found between the input molecule and the molecule from chkfile\n",
            "Initial guess density matrix may have large error.\n",
            "\n",
            "converged SCF energy = -74.9659007059519\n",
            "--------------- SCF_Scanner gradients ---------------\n",
            "         x                y                z\n",
            "0 O     0.0000000000    -0.0005552476    -0.0005552476\n",
            "1 H     0.0000000000     0.0004758421     0.0000794055\n",
            "2 H    -0.0000000000     0.0000794055     0.0004758421\n",
            "----------------------------------------------\n",
            "cycle 4: E = -74.965900706  dE = -1.14694e-05  norm(grad) = 0.00104022\n",
            "\n",
            "Geometry optimization cycle 5\n",
            "Cartesian coordinates (Angstrom)\n",
            " Atom        New coordinates             dX        dY        dZ\n",
            "   O   0.000000   0.033610   0.033610    0.000000  0.000299  0.000299\n",
            "   H   0.000000   1.019228  -0.052838    0.000000 -0.000176 -0.000123\n",
            "   H   0.000000  -0.052838   1.019228    0.000000 -0.000123 -0.000176\n",
            "converged SCF energy = -74.9659011919787\n",
            "--------------- SCF_Scanner gradients ---------------\n",
            "         x                y                z\n",
            "0 O    -0.0000000000     0.0000038259     0.0000038259\n",
            "1 H     0.0000000000    -0.0000102087     0.0000063828\n",
            "2 H     0.0000000000     0.0000063828    -0.0000102087\n",
            "----------------------------------------------\n",
            "cycle 5: E = -74.965901192  dE = -4.86027e-07  norm(grad) = 1.78659e-05\n",
            "\n",
            "\n",
            "[[ 0.          0.06351417  0.06351417]\n",
            " [ 0.          1.92606095 -0.099849  ]\n",
            " [ 0.         -0.099849    1.92606095]]\n"
          ]
        }
      ]
    },
    {
      "cell_type": "markdown",
      "source": [
        "Como la solución de este sistema es por vía numérica, verán que aparecen diferentes iteraciones y al final podemos ver como los átomos se desplazaron de sus posiciones iniciales. Un pequeño calculo de distancia euclidiana nos muestra como las distancias son diferentes de la unidad.\n",
        "\n"
      ],
      "metadata": {
        "id": "DOnwq3OPKfcf"
      }
    },
    {
      "cell_type": "code",
      "source": [
        "import numpy as np\n",
        "coord_O = np.array([mol_eq.atom_coords()[0][0], mol_eq.atom_coords()[0][1], mol_eq.atom_coords()[0][2]])\n",
        "coord_H = np.array([mol_eq.atom_coords()[1][0], mol_eq.atom_coords()[1][1], mol_eq.atom_coords()[1][2]])\n",
        "dist_OH = np.linalg.norm(coord_O - coord_H)\n",
        "print(dist_OH)"
      ],
      "metadata": {
        "id": "CGzm6gJQL_JR",
        "colab": {
          "base_uri": "https://localhost:8080/"
        },
        "outputId": "bdad3b42-d023-4e27-9fd6-5676bfbce2c9"
      },
      "execution_count": 5,
      "outputs": [
        {
          "output_type": "stream",
          "name": "stdout",
          "text": [
            "1.869697315105809\n"
          ]
        }
      ]
    },
    {
      "cell_type": "markdown",
      "source": [
        "La distancia anterior esta en Bohr, que es aproximadamente 1 A, la cual es la que se reporta para la molécula de agua, recuerden que la molécula inicial tenia una distancia de enlace de 1 Bohr.\n",
        "\n",
        "Ahora vamos a calcular algunas propiedades de interés a una molécula de agua en fase gaseosa.\n"
      ],
      "metadata": {
        "id": "jSdaZicXQP1r"
      }
    },
    {
      "cell_type": "code",
      "source": [
        "mol_eq.verbose = 5\n",
        "hf_calc = mol_eq.RHF()\n",
        "hf_calc.kernel()\n",
        "hf_calc.analyze()"
      ],
      "metadata": {
        "id": "UHlBwCHDDOCq",
        "colab": {
          "base_uri": "https://localhost:8080/"
        },
        "outputId": "c36a6b26-bd08-40fe-f089-1bc248abe643"
      },
      "execution_count": 6,
      "outputs": [
        {
          "output_type": "stream",
          "name": "stdout",
          "text": [
            "\n",
            "\n",
            "******** <class 'pyscf.scf.hf.RHF'> ********\n",
            "method = RHF\n",
            "initial guess = minao\n",
            "damping factor = 0\n",
            "level_shift factor = 0\n",
            "DIIS = <class 'pyscf.scf.diis.CDIIS'>\n",
            "diis_start_cycle = 1\n",
            "diis_space = 8\n",
            "SCF conv_tol = 1e-09\n",
            "SCF conv_tol_grad = None\n",
            "SCF max_cycles = 50\n",
            "direct_scf = True\n",
            "direct_scf_tol = 1e-13\n",
            "chkfile to save SCF result = /content/tmp6wlvsvvj\n",
            "max_memory 4000 MB (current use 150 MB)\n",
            "Set gradient conv threshold to 3.16228e-05\n",
            "E1 = -119.97135511363322  E_coul = 36.29760269034282\n",
            "init E= -74.7671858438172\n",
            "cond(S) = 5.248366697323701\n",
            "    CPU time for initialize scf      0.08 sec, wall time      0.08 sec\n",
            "  HOMO = -0.384161165039235  LUMO = 0.400498442939413\n",
            "  mo_energy =\n",
            "[-20.57781814  -1.55454571  -0.6721965   -0.53166218  -0.38416117\n",
            "   0.40049844   0.49101725]\n",
            "E1 = -123.07863281279633  E_coul = 39.26222823870809\n",
            "cycle= 1 E= -74.909837994615  delta_E= -0.143  |g|= 0.384  |ddm|= 1.69\n",
            "    CPU time for cycle= 1      0.02 sec, wall time      0.02 sec\n",
            "  HOMO = -0.258148061721674  LUMO = 0.623261618304366\n",
            "  mo_energy =\n",
            "[-19.98559518  -1.16794037  -0.54094884  -0.35407056  -0.25814806\n",
            "   0.62326162   0.73461104]\n",
            "E1 = -121.70673767628638  E_coul = 37.835039895847004\n",
            "cycle= 2 E= -74.9651312009661  delta_E= -0.0553  |g|= 0.0511  |ddm|= 0.604\n",
            "    CPU time for cycle= 2      0.04 sec, wall time      0.04 sec\n",
            "  HOMO = -0.390640723545315  LUMO = 0.581901827225589\n",
            "  mo_energy =\n",
            "[-20.24901686  -1.25538319  -0.59519449  -0.45782553  -0.39064072\n",
            "   0.58190183   0.69110337]\n",
            "E1 = -121.83281084760846  E_coul = 37.96037272284541\n",
            "cycle= 3 E= -74.9658715452898  delta_E= -0.00074  |g|= 0.00884  |ddm|= 0.0506\n",
            "    CPU time for cycle= 3      0.03 sec, wall time      0.03 sec\n",
            "  HOMO = -0.392715530732832  LUMO = 0.58194406036794\n",
            "  mo_energy =\n",
            "[-20.25182549  -1.25769059  -0.59411349  -0.45982892  -0.39271553\n",
            "   0.58194406   0.69279687]\n",
            "E1 = -121.83399504058956  E_coul = 37.96152731896307\n",
            "cycle= 4 E= -74.9659011421533  delta_E= -2.96e-05  |g|= 0.000246  |ddm|= 0.0147\n",
            "    CPU time for cycle= 4      0.02 sec, wall time      0.02 sec\n",
            "  HOMO = -0.392638657615725  LUMO = 0.581806786220146\n",
            "  mo_energy =\n",
            "[-20.25159851  -1.25757154  -0.59386178  -0.45971831  -0.39263866\n",
            "   0.58180679   0.69263989]\n",
            "E1 = -121.83423419686993  E_coul = 37.96176643351893\n",
            "cycle= 5 E= -74.9659011838777  delta_E= -4.17e-08  |g|= 0.000102  |ddm|= 0.000556\n",
            "    CPU time for cycle= 5      0.02 sec, wall time      0.02 sec\n",
            "  HOMO = -0.392617299239386  LUMO = 0.581802613687276\n",
            "  mo_energy =\n",
            "[-20.25157435  -1.257553    -0.59385279  -0.45973323  -0.3926173\n",
            "   0.58180261   0.69267669]\n",
            "E1 = -121.83425344607198  E_coul = 37.96178567462176\n",
            "cycle= 6 E= -74.965901191977  delta_E= -8.1e-09  |g|= 1.58e-06  |ddm|= 0.000383\n",
            "    CPU time for cycle= 6      0.03 sec, wall time      0.03 sec\n",
            "  HOMO = -0.392618551073583  LUMO = 0.581804449547172\n",
            "  mo_energy =\n",
            "[-20.25157781  -1.25755487  -0.59385618  -0.45973507  -0.39261855\n",
            "   0.58180445   0.69267898]\n",
            "E1 = -121.8342505585374  E_coul = 37.961782787085504\n",
            "cycle= 7 E= -74.9659011919787  delta_E= -1.68e-12  |g|= 1.93e-09  |ddm|= 5.42e-06\n",
            "    CPU time for cycle= 7      0.03 sec, wall time      0.03 sec\n",
            "  HOMO = -0.392618552765725  LUMO = 0.581804447770673\n",
            "  mo_energy =\n",
            "[-20.25157781  -1.25755487  -0.59385618  -0.45973507  -0.39261855\n",
            "   0.58180445   0.69267899]\n",
            "E1 = -121.83425055658765  E_coul = 37.96178278513572\n",
            "Extra cycle  E= -74.9659011919787  delta_E= -2.84e-14  |g|= 8e-10  |ddm|= 4.31e-09\n",
            "    CPU time for scf_cycle      0.30 sec, wall time      0.28 sec\n",
            "    CPU time for SCF      0.32 sec, wall time      0.31 sec\n",
            "converged SCF energy = -74.9659011919787\n",
            "**** SCF Summaries ****\n",
            "Total Energy =                         -74.965901191978702\n",
            "Nuclear Repulsion Energy =               8.906566579473242\n",
            "One-electron Energy =                 -121.834250556587648\n",
            "Two-electron Energy =                   37.961782785135718\n",
            "**** MO energy ****\n",
            "MO #1   energy= -20.2515778118506  occ= 2\n",
            "MO #2   energy= -1.2575548718314   occ= 2\n",
            "MO #3   energy= -0.59385618254187  occ= 2\n",
            "MO #4   energy= -0.459735073193642 occ= 2\n",
            "MO #5   energy= -0.392618552765725 occ= 2\n",
            "MO #6   energy= 0.581804447770673  occ= 0\n",
            "MO #7   energy= 0.692678986080427  occ= 0\n",
            " ** MO coefficients (expansion on meta-Lowdin AOs) **\n",
            "               #1        #2        #3        #4        #5       \n",
            "  0 O 1s       0.99997  -0.00217   0.00000  -0.00189  -0.00000\n",
            "  0 O 2s       0.00518   0.84393  -0.00000   0.38105   0.00000\n",
            "  0 O 2px     -0.00000   0.00000   0.00000  -0.00000   1.00000\n",
            "  0 O 2py      0.00175   0.09567  -0.52458  -0.58852   0.00000\n",
            "  0 O 2pz      0.00175   0.09567   0.52458  -0.58852  -0.00000\n",
            "  1 H 1s      -0.00346   0.36706  -0.47414  -0.28467   0.00000\n",
            "  2 H 1s      -0.00346   0.36706   0.47414  -0.28467  -0.00000\n",
            "               #6        #7       \n",
            "  0 O 1s      -0.00697   0.00000\n",
            "  0 O 2s       0.37755  -0.00000\n",
            "  0 O 2px     -0.00000   0.00000\n",
            "  0 O 2py      0.38011   0.47414\n",
            "  0 O 2pz      0.38011  -0.47414\n",
            "  1 H 1s      -0.53312  -0.52458\n",
            "  2 H 1s      -0.53312   0.52458\n",
            " ** Mulliken pop on meta-lowdin orthogonal AOs  **\n",
            " ** Mulliken pop  **\n",
            "pop of  0 O 1s        1.99990\n",
            "pop of  0 O 2s        1.71490\n",
            "pop of  0 O 2px       2.00000\n",
            "pop of  0 O 2py       1.26141\n",
            "pop of  0 O 2pz       1.26141\n",
            "pop of  1 H 1s        0.88118\n",
            "pop of  2 H 1s        0.88118\n",
            " ** Mulliken atomic charges  **\n",
            "charge of  0O =     -0.23763\n",
            "charge of  1H =      0.11882\n",
            "charge of  2H =      0.11882\n",
            "Dipole moment(X, Y, Z, Debye): -0.00000,  1.20861,  1.20861\n"
          ]
        },
        {
          "output_type": "execute_result",
          "data": {
            "text/plain": [
              "((array([1.99990272, 1.71490464, 2.        , 1.26141168, 1.26141168,\n",
              "         0.88118463, 0.88118463]),\n",
              "  array([-0.23763074,  0.11881537,  0.11881537])),\n",
              " array([-2.09327395e-16,  1.20860753e+00,  1.20860753e+00]))"
            ]
          },
          "metadata": {},
          "execution_count": 6
        }
      ]
    },
    {
      "cell_type": "markdown",
      "source": [
        "En estas líneas se esta resolviendo de manera aproximada la ecuación de Schrödinger. La primera línea específica cuan detallada es la salida.\n",
        "\n",
        "En el principio de la salida podemos ver los paramétros estándar del programa puesto que nosotros no hemos ajustado ninguno, solo que el método sea RHF(*Restricted Hartree-Fock*).\n",
        "\n",
        "Como les habiamos comentado anteriormente, esta solución se basa en un método iterativo, por eso ven varios ciclos con resultados similares y en cada uno muestra el tiempo de ejecución en CPU. Recuerden que este entorno nos permite hacer uso de GPU y TPU pero en este caso no es necesario reservar ese tipo de recurso.\n",
        "\n",
        "Una vez que terminen los ciclos nos muestran un resumen con los principales valores energéticos así como las energías y coeficientes de los Orbitales Moleculares (no se asusten, este término lo dominarán a partir del próximo semestre)\n",
        "\n",
        "En el final se pueden ver las cargas parciales atómicas (de acuerdo al esquema de partición de Mulliken) así como la descomposición del momento dipolo en cada eje.\n",
        "\n",
        "Una vez terminada esta parte vamos ahora a visualizar esta molécula usando la biblioteca Mogli.\n",
        "\n",
        "Para esto necesitamos crear un fichero con extensión *.xyz*. \n"
      ],
      "metadata": {
        "id": "4XKb_wxDDmEd"
      }
    },
    {
      "cell_type": "code",
      "source": [
        "coor = mol_eq.atom_coords()\n",
        "label = ['O', 'H', 'H']\n",
        "print(coor)\n",
        "\n",
        "with open('agua_eq.xyz', 'w') as file:\n",
        "  file.write('3\\n\\n')\n",
        "  for i,j in zip(label, coor):\n",
        "    file.write(i + '  ' + str(j[0]) + '  ' + str(j[1]) + '  ' + str(j[2]) + ' \\n')"
      ],
      "metadata": {
        "id": "0AamHMYyHNRc",
        "colab": {
          "base_uri": "https://localhost:8080/"
        },
        "outputId": "6834de8b-db79-4f84-b779-ae98e7017d88"
      },
      "execution_count": 7,
      "outputs": [
        {
          "output_type": "stream",
          "name": "stdout",
          "text": [
            "[[ 0.          0.06351417  0.06351417]\n",
            " [ 0.          1.92606095 -0.099849  ]\n",
            " [ 0.         -0.099849    1.92606095]]\n"
          ]
        }
      ]
    },
    {
      "cell_type": "markdown",
      "source": [
        "De esta manera ya creamos el fichero de coordenadas de la molecula de agua optimizada en formato *.xyz*. A la izquierda podemos ver un simbolo de una carpeta, den click ahi y veran que ahora hay un fichero que se llama agua_eq.xyz. Den doble click y cuando se les descargue mirenlo con un editor de texto\n",
        "\n",
        "Una vez que ya tenemos preparado la entrada para las funciones de la biblioteca Mogli vamos a importarlas y generar la visualizacion."
      ],
      "metadata": {
        "id": "ig1sGF12IWgK"
      }
    },
    {
      "cell_type": "code",
      "source": [
        "import mogli, gr\n",
        "molecule = mogli.read('agua_eq.xyz')\n",
        "mogli.bond_method = 'constant_delta'\n",
        "mogli.BOND_RADIUS = 0.50\n",
        "mogli.export(molecule[0], 'agua_eq.html', camera=((40,0,0),(0,0,0),(0,1,0)), bonds_param= 1.95)"
      ],
      "metadata": {
        "id": "3cUmvUNyJAbB"
      },
      "execution_count": 8,
      "outputs": []
    },
    {
      "cell_type": "markdown",
      "source": [
        "## Referencias:\n",
        "\n",
        "1. [Recent developments in the PySCF program package](https://aip.scitation.org/doi/10.1063/5.0006074), *J. Chem. Phys.* **153**, 024109 (2020)\n",
        "2. [PySCF: the Python-based simulations of chemistry framework](https://wires.onlinelibrary.wiley.com/doi/10.1002/wcms.1340), *WIREs Comput. Mol. Sci.* **8**, e1340 (2018)\n",
        "3. [Libcint: An efficient general integral library for Gaussian basis functions](https://onlinelibrary.wiley.com/doi/10.1002/jcc.23981), *J. Comp. Chem.* **36**, 1664 (2015)\n"
      ],
      "metadata": {
        "id": "Tgc7Hin2N22w"
      }
    }
  ]
}