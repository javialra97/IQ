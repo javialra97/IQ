{
  "nbformat": 4,
  "nbformat_minor": 0,
  "metadata": {
    "colab": {
      "name": "cp_7.ipynb",
      "provenance": [],
      "collapsed_sections": [],
      "authorship_tag": "ABX9TyN4LU9B5xAM0dD5oP269Y9q",
      "include_colab_link": true
    },
    "kernelspec": {
      "name": "python3",
      "display_name": "Python 3"
    },
    "language_info": {
      "name": "python"
    }
  },
  "cells": [
    {
      "cell_type": "markdown",
      "metadata": {
        "id": "view-in-github",
        "colab_type": "text"
      },
      "source": [
        "<a href=\"https://colab.research.google.com/github/javialra97/IQ/blob/main/cp_7.ipynb\" target=\"_parent\"><img src=\"https://colab.research.google.com/assets/colab-badge.svg\" alt=\"Open In Colab\"/></a>"
      ]
    },
    {
      "cell_type": "markdown",
      "source": [
        "# Clase Práctica #7 de Informática Química\n",
        "\n",
        "Es esta clase práctica trabajaremos directamente en la nube, haciendo uso de las facilidades ofrecidas por Google a través de **Google Colaboratory**.\n",
        "\n",
        "El objetivo es que a través del lenguaje de programación Python obtendramos algunas propiedades químicas como pueden ser las cargas parciales, momento dipolo y geometría de la molecula de agua.\n",
        "\n",
        "Para esto necesitamos una biblioteca que permita realizar este tipo de operaciones. Para eso usaremos el programa PySCF{cita}. Este programa esta escrito totalmente en Python de manera que uno pueda importar las bibliotecas y funciones que necesite. Para más información puede tocar [aquí](https://pyscf.org/)\n",
        "\n",
        "Como es de esperar estas funciones no forman parte de las bibliotecas estándar de Python por lo que lo primero que hace falta es instalar. En Python hay varias maneras de instalar este tipo de módulos, no ahondaremos en eso, sencillamente escogeremos uno de ellos, [pip](https://pypi.org/project/pip/). \n"
      ],
      "metadata": {
        "id": "lTrthnKbEVDk"
      }
    },
    {
      "cell_type": "code",
      "source": [
        "! pip install pyscf\n",
        "! pip install pyberny\n",
        "! pip install mogli"
      ],
      "metadata": {
        "id": "Xsx5oIOk7jYP"
      },
      "execution_count": null,
      "outputs": []
    },
    {
      "cell_type": "markdown",
      "source": [
        "Las dos primeras líneas instalan el programa PySCF. Mogli nos permitira visualizar la molécula de agua desde el mismo navegador. Hay muchos programas que permiten esto (GaussView, Avogadro, ChemCraft ...) pero el sentido es hacerlo todo con códigos de Python. La informacion de Mogli la pueden encontrar en su [repositorio de GitHub](https://github.com/sciapp/mogli).\n",
        "\n",
        "Una vez que estén instalados las bibliotecas necesarias, cual sería el próximo paso🤔? ... Tendremos que importar aquellas funciones que nos permitirán realizar el cálculos de las propiedades de interés."
      ],
      "metadata": {
        "id": "1hSUtioW8LUO"
      }
    },
    {
      "cell_type": "code",
      "source": [
        "from pyscf import gto, scf\n",
        "from pyscf.geomopt.berny_solver import optimize"
      ],
      "metadata": {
        "id": "Eu-9dv6n-nf3"
      },
      "execution_count": null,
      "outputs": []
    },
    {
      "cell_type": "markdown",
      "source": [
        "La primera línea esta importando aquellas funciones que nos permitirán resolver de manera aproximada una de las más famosas ecuaciones de la mecánica cuántica, la ecuación de Schröndinger:\n",
        "\n",
        "HY = EY (poner en LaTex ...)\n",
        "\n",
        "Como nuestro interés es encontrar la geometría de equilibrio, tendremos que buscar una función que optimice la estructura inicial que le daremos como entrada. Extrapolando un poco los conocimientos adquiridos en Análisis Matemático I, lo que estamos buscando es el conjunto óptimos de parámetros que describan a la molécula de agua, estos serían la distancia de enlace O-H y el ángulo de enlace HOH.\n",
        "\n",
        "La entrada de nuestro programa queda claro que es la molécula de agua pero hasta el momento no la hemos definido. Necesitamos escribirla de una manera que nuestro programa entienda que es la molécula de agua (un poco abstracto ehh..). Hay varias maneras de hacer esto, nosotros escogeremos la representación cartesiana. Tendriamos que declarar las coordenadas xyz de tres puntos en el espacio. "
      ],
      "metadata": {
        "id": "64yQBCVy-1l7"
      }
    },
    {
      "cell_type": "code",
      "source": [
        "mol_agua = gto.M (atom = ''' O 0 0 0; H 0 1 0; H 0 0 1 ''', basis = 'sto-3g',)"
      ],
      "metadata": {
        "id": "AmjD7AxOFWn-"
      },
      "execution_count": null,
      "outputs": []
    },
    {
      "cell_type": "markdown",
      "source": [
        "En la primera linea declaramos a nuestra molécula de agua. Fijense que el átomo de oxígeno se encuentra en el centro del eje de coordenadas mientras que los átomos de hidrógeno se encuentran desplazados una unidad en el eje de las *y* y en el eje de las *z*. \n",
        "\n",
        "Ahora vamos a buscar el mínimo(optimizar) y mostrar las coordenas de esta nueva geometría."
      ],
      "metadata": {
        "id": "2YGtcKSnIG_5"
      }
    },
    {
      "cell_type": "code",
      "source": [
        "mol_eq = optimize(mol_agua)\n",
        "print(\"\\n\")\n",
        "print(mol_eq.atom_coords())"
      ],
      "metadata": {
        "id": "Gb2rxzpbJ9Vr"
      },
      "execution_count": null,
      "outputs": []
    },
    {
      "cell_type": "markdown",
      "source": [
        "Como la solución de este sistema es por vía numérica, verán que aparecen diferentes iteraciones y al final podemos ver como los átomos se desplazaron de sus posiciones iniciales. Un pequeño calculo de distancia euclidiana nos muestra como las distancias son diferentes de la unidad.\n",
        "\n"
      ],
      "metadata": {
        "id": "DOnwq3OPKfcf"
      }
    },
    {
      "cell_type": "code",
      "source": [
        "import numpy as np\n",
        "coord_O = np.array([mol_eq.atom_coords()[0][0], mol_eq.atom_coords()[0][1], mol_eq.atom_coords()[0][2]])\n",
        "coord_H = np.array([mol_eq.atom_coords()[1][0], mol_eq.atom_coords()[1][1], mol_eq.atom_coords()[1][2]])\n",
        "dist_OH = np.linalg.norm(coord_O - coord_H)\n",
        "print(dist_OH)"
      ],
      "metadata": {
        "id": "CGzm6gJQL_JR"
      },
      "execution_count": null,
      "outputs": []
    },
    {
      "cell_type": "markdown",
      "source": [
        "La distancia anterior esta en Bohr, que es aproximadamente 1 A, la cual es la que se reporta para la molécula de agua, recuerden que la molécula inicial tenia una distancia de enlace de 1 Bohr.\n",
        "\n",
        "Ahora vamos a calcular algunas propiedades de interés a una molécula de agua en fase gaseosa.\n"
      ],
      "metadata": {
        "id": "jSdaZicXQP1r"
      }
    },
    {
      "cell_type": "code",
      "source": [
        "mol_eq.verbose = 5\n",
        "hf_calc = mol_eq.RHF()\n",
        "hf_calc.kernel()\n",
        "hf_calc.analyze()"
      ],
      "metadata": {
        "id": "UHlBwCHDDOCq"
      },
      "execution_count": null,
      "outputs": []
    },
    {
      "cell_type": "markdown",
      "source": [
        "En estas líneas se esta resolviendo de manera aproximada la ecuación de Schrödinger. La primera línea específica cuan detallada es la salida.\n",
        "\n",
        "En el principio de la salida podemos ver los paramétros estándar del programa puesto que nosotros no hemos ajustado ninguno, solo que el método sea RHF(*Restricted Hartree-Fock*)\n",
        "\n",
        "Como les habiamos comentado anteriormente, esta solución se basa en un método iterativo, por eso ven varios ciclos con resultados similares y en cada uno muestra el tiempo de ejecución en CPU. Recuerden que este entorno nos permite hacer uso de GPU y TPU pero en este caso no es necesario reservar ese tipo de recurso.\n",
        "\n",
        "Una vez que terminen los ciclos nos muestran un resumen con los principales valores energéticos así como las energías y coeficientes de los Orbitales Moleculares (no se asusten, este término lo dominarán a partir del próximo semestre)\n",
        "\n",
        "En el final se pueden ver las cargas parciales atómicas (de acuerdo al esquema de partición de Mulliken) así como la descomposición del momento dipolo en cada eje.\n",
        "\n",
        "Una vez terminada esta parte vamos ahora a visualizar esta molécula usando la biblioteca Mogli.\n",
        "\n",
        "Para esto necesitamos crear un fichero con extensión *.xyz*. \n"
      ],
      "metadata": {
        "id": "4XKb_wxDDmEd"
      }
    },
    {
      "cell_type": "code",
      "source": [
        "coor = mol_eq.atom_coords()\n",
        "label = ['O', 'H', 'H']\n",
        "print(coor)\n",
        "\n",
        "with open('agua_eq.xyz', 'w') as file:\n",
        "  file.write('3\\n\\n')\n",
        "  for i,j in zip(label, coor):\n",
        "    file.write(i + '  ' + str(j[0]) + '  ' + str(j[1]) + '  ' + str(j[2]) + ' \\n')"
      ],
      "metadata": {
        "id": "0AamHMYyHNRc"
      },
      "execution_count": null,
      "outputs": []
    },
    {
      "cell_type": "markdown",
      "source": [
        "De esta manera ya creamos el fichero de coordenadas de la molecula de agua optimizada en formato *.xyz*. A la izquierda podemos ver un simbolo de una carpeta, den click ahi y veran que ahora hay un fichero que se llama agua_eq.xyz. Den doble click y cuando se les descargue mirenlo con un editor de texto\n",
        "\n",
        "Una vez que ya tenemos preparado la entrada para las funciones de la biblioteca Mogli vamos a importarlas y generar la visualizacion de dos maneras distintas."
      ],
      "metadata": {
        "id": "ig1sGF12IWgK"
      }
    },
    {
      "cell_type": "code",
      "source": [
        "import mogli, gr\n",
        "molecule = mogli.read('agua_eq.xyz')\n",
        "mogli.bond_method = 'constant_delta'\n",
        "mogli.BOND_RADIUS = 0.50\n",
        "mogli.export(molecule[0], 'agua_eq.html', camera=((40,0,0),(0,0,0),(0,1,0)), bonds_param= 1.95)"
      ],
      "metadata": {
        "id": "3cUmvUNyJAbB"
      },
      "execution_count": null,
      "outputs": []
    },
    {
      "cell_type": "markdown",
      "source": [
        ""
      ],
      "metadata": {
        "id": "Tgc7Hin2N22w"
      }
    }
  ]
}