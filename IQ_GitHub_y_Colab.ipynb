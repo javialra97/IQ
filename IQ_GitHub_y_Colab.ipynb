{
  "cells": [
    {
      "cell_type": "markdown",
      "metadata": {
        "id": "view-in-github",
        "colab_type": "text"
      },
      "source": [
        "<a href=\"https://colab.research.google.com/github/javialra97/IQ/blob/main/IQ_GitHub_y_Colab.ipynb\" target=\"_parent\"><img src=\"https://colab.research.google.com/assets/colab-badge.svg\" alt=\"Open In Colab\"/></a>"
      ]
    },
    {
      "cell_type": "code",
      "execution_count": null,
      "metadata": {
        "id": "2srNkHD8jE3i"
      },
      "outputs": [],
      "source": [
        "\n",
        "\n",
        "#CP Informatica Química\n",
        "#GitHub y Colab\n",
        "\n",
        "#Lo primeros que siempre hay q hacer\n",
        "#es importar las bibliotecas con las \n",
        "#funciones q se van a usar\n",
        "\n",
        "#Tambien puede pasar que hace falta instalarla\n",
        "\n",
        "\n",
        "# Vamos a usar el PySCF y para hacer uso\n",
        "# de sus funciones es necesario instalarlo\n",
        "\n",
        "! pip install pyscf\n",
        "! pip install pyberny\n",
        "! pip install mogli\n",
        "\n",
        "# Importamos la biblioteca de interes\n",
        "from pyscf import gto, scf\n",
        "from pyscf.geomopt.berny_solver import optimize\n",
        "\n",
        "# Definir nuestra molecula H2O\n",
        "mol_agua = gto.M (atom = ''' O 0 0 0; H 0 0 1; H 0 1 0 ''', basis = 'sto-3g',)\n",
        "mf = scf.RHF(mol_agua)\n",
        "\n",
        "# Buscar la estructura \"real\"\n",
        "mol_eq = optimize(mf)\n",
        "print(mol_eq.atom_coords())\n",
        "\n",
        "mol_eq.verbose = 5\n",
        "# Resolvemos la ecuacion HY=EY aproximadamente\n",
        "hf_calc = mol_eq.HF()\n",
        "hf_calc.kernel()\n",
        "hf_calc.analyze()\n",
        "\n",
        "coor = mol_eq.atom_coords()\n",
        "label = ['O', 'H', 'H']\n",
        "print(coor)\n",
        "\n",
        "with open('agua_eq.xyz', 'w') as file:\n",
        "    file.write(' 3\\n\\n')\n",
        "    for i, j in zip(label, coor):\n",
        "        file.write(i + '  ' + str(j[0]) + '  ' + str(j[1]) + '  ' + str(j[2]) + ' \\n')\n",
        "\n",
        "import gr, mogli\n",
        "\n",
        "molecule = mogli.read('agua_eq.xyz')\n",
        "mogli.draw(molecule[0])\n",
        "mogli.export(molecule[0], 'dna.html', width=1920, height=1080, bonds_param=1.20, camera=((40,0,0),(0,0,0),(0,1,0)))"
      ]
    }
  ],
  "metadata": {
    "colab": {
      "collapsed_sections": [],
      "name": "IQ GitHub y Colab.ipynb",
      "provenance": [],
      "authorship_tag": "ABX9TyMIby7w/Xr6gw0IEQsXBm+U",
      "include_colab_link": true
    },
    "kernelspec": {
      "display_name": "Python 3",
      "name": "python3"
    },
    "language_info": {
      "name": "python"
    }
  },
  "nbformat": 4,
  "nbformat_minor": 0
}